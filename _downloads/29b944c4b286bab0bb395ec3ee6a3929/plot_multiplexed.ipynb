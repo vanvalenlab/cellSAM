{
  "cells": [
    {
      "cell_type": "markdown",
      "metadata": {},
      "source": [
        "\n# Multiplexed Imaging: CODEX\n"
      ]
    },
    {
      "cell_type": "code",
      "execution_count": null,
      "metadata": {
        "collapsed": false
      },
      "outputs": [],
      "source": [
        "import imageio.v3 as iio\nimport napari\n\nfrom cellSAM import cellsam_pipeline\nimg = iio.imread(\"../sample_imgs/tissuenet.png\")\n\n# Image is 3-channel RGB where Channel 1 (G) represents a nuclear stain\n# and Channel 2 (B) a membrane stain. Channel 0 (R) is blank.\nprint(img.sum(axis=(0, 1)))\n\nmask = cellsam_pipeline(img, use_wsi=False)\n\nnim = napari.view_image(img, name=\"CODEX image\");\nnim.add_labels(mask, name=\"Cellsam segmentation\");\n\nif __name__ == \"__main__\":\n    napari.run()"
      ]
    }
  ],
  "metadata": {
    "kernelspec": {
      "display_name": "Python 3",
      "language": "python",
      "name": "python3"
    },
    "language_info": {
      "codemirror_mode": {
        "name": "ipython",
        "version": 3
      },
      "file_extension": ".py",
      "mimetype": "text/x-python",
      "name": "python",
      "nbconvert_exporter": "python",
      "pygments_lexer": "ipython3",
      "version": "3.10.12"
    }
  },
  "nbformat": 4,
  "nbformat_minor": 0
}