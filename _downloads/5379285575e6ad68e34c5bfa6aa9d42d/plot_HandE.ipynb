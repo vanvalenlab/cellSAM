{
  "cells": [
    {
      "cell_type": "markdown",
      "metadata": {},
      "source": [
        "\n# Histology - H&E Staining\n\nApplying the cellsam_pipeline to segment H&E stained images.\n\nThis FOV is extracted from dataset `HBM248.QRTB.362`_ available\non the `HuBMAP data portal`_.\n\n"
      ]
    },
    {
      "cell_type": "code",
      "execution_count": null,
      "metadata": {
        "collapsed": false
      },
      "outputs": [],
      "source": [
        "import zarr\nimport skimage\nimport napari\nfrom cellSAM import cellsam_pipeline\n# NOTE: data is stored with zarr_format 3\nassert int(zarr.__version__[0]) > 2\n\n# Access H&E image\nstore = zarr.storage.FsspecStore.from_url(\n    \"s3://cellsam-gallery-sample-data/sample-data.zarr\",\n    storage_options={\"anon\": True},\n    read_only=True,\n)\nz = zarr.open_group(store=store, mode=\"r\")\n# Load H&E image into local memory\n# Limit to upper-left quadrant to reduce CI computation load\ntilesize = 512\nimg = z[\"HBM248_QRTB_362\"][:tilesize, :tilesize, :]\nprint(img.shape)\n\n# NOTE: H&E images are often RGB - CellSAM expects RGB images to\n# be condensed to a single channel, as with `skimage.color.rgb2gray`,\n# for example\nmask = cellsam_pipeline(skimage.color.rgb2gray(img), use_wsi=False)\n\nnim = napari.view_image(img, name=\"H&E image\");\nnim.add_labels(mask, name=\"Cellsam segmentation\");\n\nif __name__ == \"__main__\":\n    napari.run()"
      ]
    }
  ],
  "metadata": {
    "kernelspec": {
      "display_name": "Python 3",
      "language": "python",
      "name": "python3"
    },
    "language_info": {
      "codemirror_mode": {
        "name": "ipython",
        "version": 3
      },
      "file_extension": ".py",
      "mimetype": "text/x-python",
      "name": "python",
      "nbconvert_exporter": "python",
      "pygments_lexer": "ipython3",
      "version": "3.13.2"
    }
  },
  "nbformat": 4,
  "nbformat_minor": 0
}